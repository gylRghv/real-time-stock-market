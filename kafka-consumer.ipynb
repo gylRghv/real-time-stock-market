{
 "cells": [
  {
   "cell_type": "code",
   "execution_count": 51,
   "metadata": {},
   "outputs": [],
   "source": [
    "import pandas as pd\n",
    "from json import loads\n",
    "from kafka import KafkaConsumer\n",
    "from time import sleep\n",
    "import json\n",
    "import configparser"
   ]
  },
  {
   "cell_type": "code",
   "execution_count": 57,
   "metadata": {},
   "outputs": [],
   "source": [
    "config = configparser.ConfigParser()\n",
    "dev_config = config.read('dev')"
   ]
  },
  {
   "cell_type": "code",
   "execution_count": null,
   "metadata": {},
   "outputs": [],
   "source": [
    "consumer = KafkaConsumer('kafka-stock-market-topic', \n",
    "    bootstrap_servers=['54.176.97.117:9092'],\n",
    "    value_deserializer=lambda x: loads(x.decode('utf-8'))\n",
    ")\n"
   ]
  },
  {
   "cell_type": "code",
   "execution_count": 31,
   "metadata": {},
   "outputs": [],
   "source": [
    "from boto3 import Session\n",
    "session = Session(profile_name='raghav_personal')\n",
    "s3 = session.client('s3')\n",
    "bucket_name = \"kafka-stock-market-project-raghav\"\n"
   ]
  },
  {
   "cell_type": "code",
   "execution_count": 47,
   "metadata": {},
   "outputs": [],
   "source": [
    "# find latest file number in case the consumer stops - should stop file from overwriting : based on file name \n",
    "# real life = would be on timestamp   \n",
    "\n",
    "paginator = s3.get_paginator(\"list_objects_v2\")\n",
    "page_iterator = paginator.paginate(Bucket=bucket_name, Prefix='stock_market')\n",
    "\n",
    "latest = None\n",
    "for page in page_iterator:\n",
    "    if \"Contents\" in page:\n",
    "        latest2 = max(page['Contents'], key=lambda x: int(x['Key'][:-5].split(\"_\")[2]))\n",
    "        if latest is None or latest2['Key'] > latest['Key']:\n",
    "            latest = latest2\n",
    "\n",
    "count = int(latest['Key'][:-5].split(\"_\")[2])+1\n",
    "\n"
   ]
  },
  {
   "cell_type": "code",
   "execution_count": null,
   "metadata": {},
   "outputs": [],
   "source": [
    "from io import BytesIO\n",
    "for i in consumer:\n",
    "    # convert json.dumps formed string to bytes using bytesIO\n",
    "    file_object = BytesIO(json.dumps(i.value).encode('utf-8'))\n",
    "    # upload file object to s3 bucket \n",
    "    s3.upload_fileobj(file_object, bucket_name, f\"stock_market_{count}.json\")\n",
    "    count += 1"
   ]
  }
 ],
 "metadata": {
  "kernelspec": {
   "display_name": "Python 3.9.6 64-bit",
   "language": "python",
   "name": "python3"
  },
  "language_info": {
   "codemirror_mode": {
    "name": "ipython",
    "version": 3
   },
   "file_extension": ".py",
   "mimetype": "text/x-python",
   "name": "python",
   "nbconvert_exporter": "python",
   "pygments_lexer": "ipython3",
   "version": "3.9.6 (default, Aug  5 2022, 15:21:02) \n[Clang 14.0.0 (clang-1400.0.29.102)]"
  },
  "orig_nbformat": 4,
  "vscode": {
   "interpreter": {
    "hash": "31f2aee4e71d21fbe5cf8b01ff0e069b9275f58929596ceb00d14d90e3e16cd6"
   }
  }
 },
 "nbformat": 4,
 "nbformat_minor": 2
}
